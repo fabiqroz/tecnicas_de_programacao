{
  "cells": [
    {
      "attachments": {},
      "cell_type": "markdown",
      "metadata": {
        "id": "hmg3bpzjttmz"
      },
      "source": [
        "Entrada de dados"
      ]
    },
    {
      "cell_type": "code",
      "execution_count": 5,
      "metadata": {
        "id": "Gq-oIUmgzMFF"
      },
      "outputs": [],
      "source": [
        "a = int(input('Digite um numero'))\n",
        "b, c = map(int, input().split())"
      ]
    },
    {
      "cell_type": "code",
      "execution_count": 4,
      "metadata": {},
      "outputs": [
        {
          "name": "stdout",
          "output_type": "stream",
          "text": [
            "\n",
            "ola!\n"
          ]
        }
      ],
      "source": [
        "def minha_funcao(string=''):\n",
        "    print(string)\n",
        "\n",
        "minha_funcao()\n",
        "minha_funcao(string='ola!')\n"
      ]
    },
    {
      "attachments": {},
      "cell_type": "markdown",
      "metadata": {
        "id": "ky-CjPrEtxpk"
      },
      "source": [
        "saida de dados"
      ]
    },
    {
      "cell_type": "code",
      "execution_count": 10,
      "metadata": {
        "id": "Farg2EuwKR7W"
      },
      "outputs": [
        {
          "name": "stdout",
          "output_type": "stream",
          "text": [
            "1 3 4\n"
          ]
        }
      ],
      "source": [
        "print(a,b, c)"
      ]
    },
    {
      "attachments": {},
      "cell_type": "markdown",
      "metadata": {
        "id": "TWywV-b60Mcr"
      },
      "source": [
        "Operadores aritméticos"
      ]
    },
    {
      "cell_type": "code",
      "execution_count": 8,
      "metadata": {
        "id": "psb1UKFxzpbt"
      },
      "outputs": [
        {
          "name": "stdout",
          "output_type": "stream",
          "text": [
            "4\n",
            "-2\n",
            "3\n",
            "1\n",
            "0.3333333333333333\n",
            "0\n",
            "1\n"
          ]
        }
      ],
      "source": [
        "print(a+b)\n",
        "print(a-b)\n",
        "print(a*b)\n",
        "print(a**b)\n",
        "print(a/b)\n",
        "print(a//b)\n",
        "print(a%b)"
      ]
    },
    {
      "attachments": {},
      "cell_type": "markdown",
      "metadata": {
        "id": "zARGE-d30POS"
      },
      "source": [
        "Operadores relacionais"
      ]
    },
    {
      "cell_type": "code",
      "execution_count": 9,
      "metadata": {
        "id": "uhh_FbnX0RUh"
      },
      "outputs": [
        {
          "name": "stdout",
          "output_type": "stream",
          "text": [
            "False\n",
            "True\n",
            "True\n",
            "False\n"
          ]
        }
      ],
      "source": [
        "print(a==b)\n",
        "print(a!=b)\n",
        "print(a<b)\n",
        "print(a>=b)"
      ]
    },
    {
      "attachments": {},
      "cell_type": "markdown",
      "metadata": {
        "id": "CqGCdq16qyL7"
      },
      "source": [
        "Operadores Lógicos"
      ]
    },
    {
      "cell_type": "code",
      "execution_count": 11,
      "metadata": {
        "id": "GNuczm28piiw"
      },
      "outputs": [
        {
          "name": "stdout",
          "output_type": "stream",
          "text": [
            "False\n",
            "False\n",
            "True\n"
          ]
        }
      ],
      "source": [
        "print(a==b and b==c)\n",
        "print(a==b or b==c)\n",
        "print(not a==b)"
      ]
    },
    {
      "attachments": {},
      "cell_type": "markdown",
      "metadata": {
        "id": "YrGdXygi0tMC"
      },
      "source": [
        "Strings"
      ]
    },
    {
      "cell_type": "code",
      "execution_count": 13,
      "metadata": {
        "id": "uXILpmEK1f-k"
      },
      "outputs": [
        {
          "name": "stdout",
          "output_type": "stream",
          "text": [
            "oi mundo 'cruel'! \n",
            "oi oi oi oi oi oi oi oi oi oi \n"
          ]
        }
      ],
      "source": [
        "s1 = 'oi '\n",
        "s2 = \"mundo 'cruel'! \"\n",
        "\n",
        "print(s1 + s2)\n",
        "print(s1*10)"
      ]
    },
    {
      "cell_type": "code",
      "execution_count": 15,
      "metadata": {
        "id": "erBZASfC0vNw"
      },
      "outputs": [
        {
          "name": "stdout",
          "output_type": "stream",
          "text": [
            "Bem vinda, 3, sua senha é a de numero FABI\n"
          ]
        }
      ],
      "source": [
        "nome = 'fabi'\n",
        "senha = 3\n",
        "\n",
        "\n",
        "print('Bem vinda, {}, sua senha é a de numero {:.3f}'.format(nome.upper(), senha))"
      ]
    },
    {
      "cell_type": "code",
      "execution_count": 16,
      "metadata": {
        "id": "8uZ8MWBfrTmv"
      },
      "outputs": [
        {
          "name": "stdout",
          "output_type": "stream",
          "text": [
            "Bem vinda, FABI, sua senha é a de numero 3.000\n"
          ]
        }
      ],
      "source": [
        "print(f'Bem vinda, {nome.upper()}, sua senha é a de numero {senha:.3f}')"
      ]
    },
    {
      "attachments": {},
      "cell_type": "markdown",
      "metadata": {
        "id": "x7_FET9T0evT"
      },
      "source": [
        "Condições"
      ]
    },
    {
      "cell_type": "code",
      "execution_count": null,
      "metadata": {
        "id": "vVdkIzyg0qU-"
      },
      "outputs": [],
      "source": [
        "c = -1"
      ]
    },
    {
      "cell_type": "code",
      "execution_count": 17,
      "metadata": {
        "id": "pZVMIzNx0h9G"
      },
      "outputs": [
        {
          "name": "stdout",
          "output_type": "stream",
          "text": [
            "2\n"
          ]
        }
      ],
      "source": [
        "if a == b or a>c:\n",
        "  print(0)\n",
        "elif a!= b and a>=c:\n",
        "  print(1)\n",
        "else:\n",
        "  print(2)"
      ]
    },
    {
      "attachments": {},
      "cell_type": "markdown",
      "metadata": {
        "id": "kJ5-ktNG2Mqu"
      },
      "source": [
        "Repetição Condicionada"
      ]
    },
    {
      "cell_type": "code",
      "execution_count": 20,
      "metadata": {
        "id": "Ek-Roa4w2Osp"
      },
      "outputs": [
        {
          "name": "stdout",
          "output_type": "stream",
          "text": [
            "Parabéns, este é um numero positivo!!!\n",
            "Parabéns, este é um numero positivo!!!\n",
            "O numero digitado não é um numero  positivo.\n"
          ]
        }
      ],
      "source": [
        "\n",
        "\n",
        "while True:\n",
        "  num = float(input('Digite outro numero  positivo. '))\n",
        "  if num>=0:\n",
        "    print('Parabéns, este é um numero positivo!!!')  \n",
        "  else:\n",
        "    print('O numero digitado não é um numero  positivo.')\n",
        "    break\n",
        "\n"
      ]
    },
    {
      "attachments": {},
      "cell_type": "markdown",
      "metadata": {
        "id": "OxCMbfdK4C_y"
      },
      "source": [
        "Listas"
      ]
    },
    {
      "cell_type": "code",
      "execution_count": 21,
      "metadata": {
        "id": "4DnD1gYM4Eh_"
      },
      "outputs": [
        {
          "name": "stdout",
          "output_type": "stream",
          "text": [
            "[9, -6, 7, 2, 0, 1, 8, -3, 5, 4]\n"
          ]
        }
      ],
      "source": [
        "lista = [9,-6,7,2,0,1,8,-3,5,4]\n",
        "print(lista)"
      ]
    },
    {
      "cell_type": "code",
      "execution_count": 22,
      "metadata": {
        "id": "2pSWeb1fry35"
      },
      "outputs": [
        {
          "name": "stdout",
          "output_type": "stream",
          "text": [
            "9\n",
            "-6\n",
            "7\n",
            "2\n",
            "0\n",
            "1\n",
            "8\n",
            "-3\n",
            "5\n",
            "4\n"
          ]
        }
      ],
      "source": [
        "for i in lista:\n",
        "  print(i)"
      ]
    },
    {
      "cell_type": "code",
      "execution_count": 26,
      "metadata": {
        "id": "oQuf6vvJ4bJo"
      },
      "outputs": [
        {
          "name": "stdout",
          "output_type": "stream",
          "text": [
            "0\n"
          ]
        }
      ],
      "source": [
        "for i in range(len(lista)):\n",
        "  print(lista[i])"
      ]
    },
    {
      "attachments": {},
      "cell_type": "markdown",
      "metadata": {
        "id": "9fsPlujFtl7u"
      },
      "source": [
        "Listas de listas"
      ]
    },
    {
      "cell_type": "code",
      "execution_count": 27,
      "metadata": {
        "colab": {
          "base_uri": "https://localhost:8080/"
        },
        "id": "lYThGBzY4q0f",
        "outputId": "877a2a88-9d08-4a83-cd24-5d692db1b987"
      },
      "outputs": [
        {
          "name": "stdout",
          "output_type": "stream",
          "text": [
            "[[1, 3], ['marta'], [], 2]\n"
          ]
        }
      ],
      "source": [
        "l_l = [[1,3], ['marta'], [], 2]\n",
        "print(l_l)"
      ]
    },
    {
      "cell_type": "code",
      "execution_count": 28,
      "metadata": {
        "id": "IrfT3ROluQCi"
      },
      "outputs": [
        {
          "name": "stdout",
          "output_type": "stream",
          "text": [
            "[[1, 2], [3, 4]]\n"
          ]
        }
      ],
      "source": [
        "m = []\n",
        "for i in range(2):\n",
        "  linha = []\n",
        "  for j in range(2):\n",
        "    linha.append(int(input()))\n",
        "\n",
        "  m.append(linha)\n",
        "\n",
        "print(m)"
      ]
    },
    {
      "attachments": {},
      "cell_type": "markdown",
      "metadata": {
        "id": "L9pD7U5DOzbu"
      },
      "source": [
        "Funções"
      ]
    },
    {
      "cell_type": "code",
      "execution_count": 29,
      "metadata": {
        "id": "jucePQA0PQj-"
      },
      "outputs": [],
      "source": [
        "def diga_oi():\n",
        "  print('oi')"
      ]
    },
    {
      "cell_type": "code",
      "execution_count": 30,
      "metadata": {
        "id": "fb_qw6GePUe7"
      },
      "outputs": [
        {
          "name": "stdout",
          "output_type": "stream",
          "text": [
            "oi\n"
          ]
        }
      ],
      "source": [
        "diga_oi()"
      ]
    },
    {
      "cell_type": "code",
      "execution_count": 31,
      "metadata": {
        "id": "B0XME13T5K9N"
      },
      "outputs": [],
      "source": [
        "def check_par(num):\n",
        "  return num % 2 == 0"
      ]
    },
    {
      "cell_type": "code",
      "execution_count": 32,
      "metadata": {
        "id": "DHjptaLw7nOd"
      },
      "outputs": [
        {
          "name": "stdout",
          "output_type": "stream",
          "text": [
            "Quantidade de numeros pares: 5\n"
          ]
        }
      ],
      "source": [
        "cont= 0\n",
        "for i in lista:\n",
        "  if check_par(i):\n",
        "    cont += 1\n",
        "\n",
        "print('Quantidade de numeros pares:', cont)"
      ]
    },
    {
      "cell_type": "code",
      "execution_count": 34,
      "metadata": {
        "id": "HlE-WHxn7uIx"
      },
      "outputs": [],
      "source": [
        "def check_pares(lista):\n",
        "  pares = []\n",
        "  for i in lista:\n",
        "    if check_par(i):\n",
        "      pares.append(i)\n",
        "\n",
        "  return pares"
      ]
    },
    {
      "cell_type": "code",
      "execution_count": 39,
      "metadata": {
        "id": "Greh6nlF8Gp9"
      },
      "outputs": [],
      "source": [
        "l1 = [3, 1]"
      ]
    },
    {
      "cell_type": "code",
      "execution_count": 40,
      "metadata": {
        "id": "StvWtirA9AQl"
      },
      "outputs": [
        {
          "name": "stdout",
          "output_type": "stream",
          "text": [
            "[]\n"
          ]
        }
      ],
      "source": [
        "pares = check_pares(l1)\n",
        "print(pares)"
      ]
    },
    {
      "cell_type": "code",
      "execution_count": 41,
      "metadata": {
        "id": "oAq8kNB_81Yb"
      },
      "outputs": [
        {
          "name": "stdout",
          "output_type": "stream",
          "text": [
            "A lista não contém numeros pares\n"
          ]
        }
      ],
      "source": [
        "# Verifica se a lista nao esta vazia\n",
        "if pares:\n",
        "  print('A lista contem {} numeros pares. \\n São eles: {}'.format(len(pares), pares))\n",
        "else:\n",
        "  print('A lista não contém numeros pares')"
      ]
    }
  ],
  "metadata": {
    "colab": {
      "provenance": []
    },
    "kernelspec": {
      "display_name": "Python 3",
      "name": "python3"
    },
    "language_info": {
      "codemirror_mode": {
        "name": "ipython",
        "version": 3
      },
      "file_extension": ".py",
      "mimetype": "text/x-python",
      "name": "python",
      "nbconvert_exporter": "python",
      "pygments_lexer": "ipython3",
      "version": "3.9.16"
    }
  },
  "nbformat": 4,
  "nbformat_minor": 0
}
