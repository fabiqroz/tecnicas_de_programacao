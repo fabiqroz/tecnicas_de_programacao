{
 "cells": [
  {
   "attachments": {},
   "cell_type": "markdown",
   "metadata": {},
   "source": [
    "# POO -  POLIMORFISMO"
   ]
  },
  {
   "attachments": {},
   "cell_type": "markdown",
   "metadata": {},
   "source": [
    "Para este módulo, construiremos nosso conhecimento de POO em Python com base nos seguintes tópicos:\n",
    "\n",
    "* Polimorfismo"
   ]
  },
  {
   "attachments": {},
   "cell_type": "markdown",
   "metadata": {},
   "source": [
    "Polimorfismo, em Python, é a capacidade que uma subclasse tem de ter métodos com o mesmo nome de sua superclasse, e o programa saber qual método deve ser invocado, especificamente (da super ou sub). \n",
    "\n",
    "Dessa forma, um objeto tem a capacidade de assumir diferentes formas."
   ]
  },
  {
   "attachments": {},
   "cell_type": "markdown",
   "metadata": {},
   "source": [
    "## Exemplo de Polimorfismo"
   ]
  },
  {
   "cell_type": "code",
   "execution_count": 59,
   "metadata": {},
   "outputs": [],
   "source": [
    "class animal:\n",
    "    def __init__(self, idade, peso):\n",
    "        self.reino = 'Animal'\n",
    "        self.filo = 'Vertebrado'\n",
    "        self.idade = idade\n",
    "        self.peso = peso\n",
    "    \n",
    "    # Novo metodo da classe animal\n",
    "    def get_taxonomia(self):\n",
    "        print('Método \"get_taxonomia\" da superclasse Animal.')\n",
    "        return self.reino, self.filo\n",
    "    \n",
    "     # Novo metodo da classe animal\n",
    "    def obter_dados(self):\n",
    "       print('Método \"obter_dados\" da superclasse Animal.')\n",
    "       return self.idade, self.peso\n"
   ]
  },
  {
   "cell_type": "code",
   "execution_count": 61,
   "metadata": {},
   "outputs": [
    {
     "name": "stdout",
     "output_type": "stream",
     "text": [
      "Método \"get_taxonomia\" da superclasse Animal.\n",
      "('Animal', 'Vertebrado')\n",
      "Método \"obter_dados\" da superclasse Animal.\n",
      "(1, 0.5)\n"
     ]
    }
   ],
   "source": [
    "a = animal(idade=1, peso=0.5)\n",
    "taxonomia =  a.get_taxonomia()\n",
    "print(taxonomia)\n",
    "dados_animal = a.obter_dados()\n",
    "print(dados_animal)\n"
   ]
  },
  {
   "attachments": {},
   "cell_type": "markdown",
   "metadata": {},
   "source": [
    "A classe `cachorro` herda a classe `animal`, ou seja, tudo que nem na superclasse (atributos e métodos), vai ter na subclasse.\n"
   ]
  },
  {
   "cell_type": "code",
   "execution_count": 62,
   "metadata": {},
   "outputs": [],
   "source": [
    "class cachorro(animal):  \n",
    "    def __init__(self, nome, raca, idade, peso, tutor, vacina):\n",
    "        super().__init__(idade, peso)\n",
    "        self.classe = 'Mamifero'\n",
    "        self.especie = 'Canina'\n",
    "        self.nome = nome\n",
    "        self.raca = raca\n",
    "        self.nome_tutor = tutor\n",
    "        self.status_vacina = vacina\n",
    "\n",
    "    # Método latir da classe cachorro\n",
    "    def latir(self):\n",
    "        print('{} diz AU AU AU!'.format(self.nome))"
   ]
  },
  {
   "cell_type": "code",
   "execution_count": 69,
   "metadata": {},
   "outputs": [
    {
     "name": "stdout",
     "output_type": "stream",
     "text": [
      "Método \"get_taxonomia\" da superclasse Animal.\n",
      "('Animal', 'Vertebrado')\n",
      "Método \"obter_dados\" da subclasse Cachorro.\n",
      "('pituca', 'poodle')\n"
     ]
    }
   ],
   "source": [
    "c = cachorro(nome='pituca', raca='poodle', idade=5.5, peso=4.0, tutor='Maria', vacina=True)\n",
    "# Método da superclasse Animal\n",
    "taxonomia = c.get_taxonomia()\n",
    "print(taxonomia)\n",
    "# Método da superclasse Animal\n",
    "dados_cao = c.obter_dados()\n",
    "print(dados_cao)"
   ]
  },
  {
   "attachments": {},
   "cell_type": "markdown",
   "metadata": {},
   "source": [
    "Agora vamos incluir na classe `cachorro`, um método de mesmo nome da superclasse: ``obter_dados()``, porém com um retorno diferente:"
   ]
  },
  {
   "cell_type": "code",
   "execution_count": 70,
   "metadata": {},
   "outputs": [],
   "source": [
    "class cachorro(animal):  \n",
    "    def __init__(self, nome, raca, idade, peso, tutor, vacina):\n",
    "        super().__init__(idade, peso)\n",
    "        self.classe = 'Mamifero'\n",
    "        self.especie = 'Canina'\n",
    "        self.nome = nome\n",
    "        self.raca = raca\n",
    "        self.nome_tutor = tutor\n",
    "        self.status_vacina = vacina\n",
    "\n",
    "    # Método latir da classe cachorro\n",
    "    def latir(self):\n",
    "        print('{} diz AU AU AU!'.format(self.nome))\n",
    "\n",
    "    # Sobreposição do método 'obter_dados' da superclase Animal\n",
    "    def obter_dados(self):\n",
    "        print('Método \"obter_dados\" da subclasse Cachorro.')\n",
    "        return self.nome, self.raca"
   ]
  },
  {
   "cell_type": "code",
   "execution_count": 71,
   "metadata": {},
   "outputs": [
    {
     "name": "stdout",
     "output_type": "stream",
     "text": [
      "Método \"obter_dados\" da subclasse Cachorro.\n",
      "('pituca', 'poodle')\n"
     ]
    }
   ],
   "source": [
    "c = cachorro(nome='pituca', raca='poodle', idade=5.5, peso=4.0, tutor='Maria', vacina=True)\n",
    "\n",
    "# Método da sobreposto \n",
    "dados_cao = c.obter_dados()\n",
    "print(dados_cao)\n"
   ]
  },
  {
   "cell_type": "code",
   "execution_count": 75,
   "metadata": {},
   "outputs": [],
   "source": [
    "class poodle(cachorro):\n",
    "    def __init__(self,nome, raca, idade, peso, tutor, vacina, tipo):\n",
    "        super().__init__(nome, raca, idade, peso, tutor, vacina)\n",
    "        self.tipo = tipo\n",
    "\n",
    "     # Sobreposição do método 'obter_dados' da superclase Cachorro\n",
    "    def obter_dados(self):\n",
    "        return self.tipo"
   ]
  },
  {
   "cell_type": "code",
   "execution_count": 77,
   "metadata": {},
   "outputs": [
    {
     "name": "stdout",
     "output_type": "stream",
     "text": [
      "Método \"get_taxonomia\" da superclasse Animal.\n",
      "('Animal', 'Vertebrado')\n",
      "pituca diz AU AU AU!\n",
      "Toy\n"
     ]
    }
   ],
   "source": [
    "p = poodle(nome='pituca', raca='poodle', idade=5.5, peso=4.0, tutor='Maria', vacina=True, tipo='Toy')\n",
    "\n",
    "# Método da superclasse Animal\n",
    "taxonomia = p.get_taxonomia()\n",
    "print(taxonomia)\n",
    "\n",
    "# Método da superclasse Cachorro\n",
    "p.latir()\n",
    "\n",
    "# Metodo sobreposto\n",
    "dados_p = p.obter_dados()\n",
    "print(dados_p)"
   ]
  }
 ],
 "metadata": {
  "kernelspec": {
   "display_name": "aulas",
   "language": "python",
   "name": "python3"
  },
  "language_info": {
   "codemirror_mode": {
    "name": "ipython",
    "version": 3
   },
   "file_extension": ".py",
   "mimetype": "text/x-python",
   "name": "python",
   "nbconvert_exporter": "python",
   "pygments_lexer": "ipython3",
   "version": "3.9.16"
  },
  "orig_nbformat": 4
 },
 "nbformat": 4,
 "nbformat_minor": 2
}
