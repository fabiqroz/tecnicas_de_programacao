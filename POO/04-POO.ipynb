{
 "cells": [
  {
   "attachments": {},
   "cell_type": "markdown",
   "metadata": {},
   "source": [
    "# MODULOS E BIBLIOTECAS NO PYTHON"
   ]
  },
  {
   "attachments": {},
   "cell_type": "markdown",
   "metadata": {},
   "source": [
    "Nesta aula, excepcionalmente, não discutiremos sobre conceitos relativos a Programação Orientada a Objetos (POO), esturturas de dados e algoritmos de busca e ordenação. Esta é uma aula cujo objetivo é explorar os conceitos de POO dentro da nossa ferramenta de programação: A linguagem Python.\n",
    "\n",
    "Discutiremos o que são módulos e pacotes do python e falaremos sobre qão úteis são os módulos e pacotes nativos e não nativos do python.\n",
    "\n",
    "Em outras palavras, o que será aprendido aqui é voltado exclusivamente para o Python e suas formas de criação e utilização de módulos e pacotes. \n",
    "É importante deixar claro, portanto, que diferentes linguagens de programação tem diferentes formas para se criar e utilizar esse tipo de recursos. "
   ]
  },
  {
   "attachments": {},
   "cell_type": "markdown",
   "metadata": {},
   "source": [
    "## Módulos"
   ]
  },
  {
   "attachments": {},
   "cell_type": "markdown",
   "metadata": {},
   "source": [
    "### Primeiramente, precisamos deixar claro um ponto:"
   ]
  },
  {
   "attachments": {},
   "cell_type": "markdown",
   "metadata": {},
   "source": [
    "\n",
    "Um arquivo `*.ipynb` (arquivo que utilizamos nas aulas dessas disciplinas) é um *documento de caderno* (mais comumente chamados de *python notebooks*) usado originalmente pelo Jupyter Notebook (usando tb pelo Google Colab, kaggle e outras plataformas e IDES).\n",
    "\n",
    "Um ambiente de programação utilizando  *notebooks* pode ser vista como uma ferramenta computacional interativa projetada para ajudar os cientistas a trabalhar com a linguagem Python e seus dados. \n",
    "\n",
    "*Notebooks* são muito úteis também no processo de aprendizado da linguagem python, por isso utilizamos esse recurso desde o curso de Introdução a Computação."
   ]
  },
  {
   "attachments": {},
   "cell_type": "markdown",
   "metadata": {},
   "source": [
    "Um arquivo `*.py` é um *script* escrito em Python, que como já sabemos, é linguagem de programação orientada a objetos interpretada. Programas em python são criados utilizando-se estes scripts.\n",
    "\n",
    "Um script pode ser criado e editado com um editor de texto, mas requer um interpretador Python para ser executado.  Muitas IDES permitem que voce crie e execute scripts em python:\n",
    "\n",
    "<img src=\"Figures/ides.png\" alt= “” width=700 height=300>"
   ]
  },
  {
   "attachments": {},
   "cell_type": "markdown",
   "metadata": {},
   "source": [
    "Um módulo é um arquivo `*.py` contendo definições e instruções do Python,  como variáveis, funções, classes, etc. \n",
    "\n",
    "Isso torna a codificação muito mais fácil, rápida e simples. \n",
    "\n",
    "A vantagem de codificar em python é que ele suporta módulos e já existe um grande número de módulos embutidos (built-in modules) e externos ao Python. \n",
    "\n",
    "Além disso, também podemos criar nosso próprio módulo personalizado e usá-lo sempre que necessário.\n"
   ]
  },
  {
   "attachments": {},
   "cell_type": "markdown",
   "metadata": {},
   "source": [
    "## Criando e importando um módulo"
   ]
  },
  {
   "attachments": {},
   "cell_type": "markdown",
   "metadata": {},
   "source": [
    "``import <nome_do _modulo> as <sigla>``"
   ]
  },
  {
   "attachments": {},
   "cell_type": "markdown",
   "metadata": {},
   "source": [
    "Vamos criar o nosso módulo: Este módulo trata-se de um script em python, onde definiremos a classe `calculadora`, cujo objetivo efetuar as 4 operações básicas sobre dois números reais. \n",
    "\n",
    "O nome do arquivo é o nome do módulo com o sufixo `*.py` anexado e salvo no diretório atual (pasta) para que possamos importá-lo para o nosso programa principal. \n",
    "\n",
    "Por exemplo, `calculadora.py` é um  script python e `calculadora` é um nome de módulo."
   ]
  },
  {
   "cell_type": "code",
   "execution_count": null,
   "metadata": {},
   "outputs": [],
   "source": [
    "# Acesse os arquivos do diretório 04-POO\n",
    "pass"
   ]
  },
  {
   "attachments": {},
   "cell_type": "markdown",
   "metadata": {},
   "source": [
    "## Bibliotecas "
   ]
  },
  {
   "attachments": {},
   "cell_type": "markdown",
   "metadata": {},
   "source": [
    "<img src=\"Figures/4.png\" alt= “” width=700 height=400>"
   ]
  },
  {
   "attachments": {},
   "cell_type": "markdown",
   "metadata": {},
   "source": [
    "## Módulos e bibliotecas nativas do python"
   ]
  },
  {
   "attachments": {},
   "cell_type": "markdown",
   "metadata": {},
   "source": [
    "<img src=\"Figures/6 copy.png\" alt= “” width=700 height=400>"
   ]
  },
  {
   "attachments": {},
   "cell_type": "markdown",
   "metadata": {},
   "source": [
    "## A partir de agora, evite reinventar a roda."
   ]
  },
  {
   "cell_type": "code",
   "execution_count": 4,
   "metadata": {},
   "outputs": [
    {
     "name": "stdout",
     "output_type": "stream",
     "text": [
      "Media: 3.0, Variancia: 2.5, Desvio padrão: 1.5811388300841898\n"
     ]
    }
   ],
   "source": [
    "# Código em python para calcular a média, variancia e desvio padrão de uma amostra:\n",
    "\n",
    "# Amostra\n",
    "a = [1,2,3,4,5]\n",
    "\n",
    "# calculo da média\n",
    "soma = 0\n",
    "for num in a:\n",
    "    soma += num\n",
    "\n",
    "media = soma/len(a)\n",
    "\n",
    "# calculo da variancia\n",
    "soma = 0\n",
    "for num in a:\n",
    "    soma += (num-media)**2\n",
    "\n",
    "var = soma/(len(a)-1)\n",
    "\n",
    "# calculo do desvio padrão\n",
    "std = var**(1/2)\n",
    "\n",
    "print(f'Media: {media}, Variancia: {var}, Desvio padrão: {std}')"
   ]
  },
  {
   "attachments": {},
   "cell_type": "markdown",
   "metadata": {},
   "source": [
    "### O módulo `statistics`"
   ]
  },
  {
   "cell_type": "code",
   "execution_count": 3,
   "metadata": {},
   "outputs": [
    {
     "name": "stdout",
     "output_type": "stream",
     "text": [
      "Media: 3, Variancia: 2.5, Desvio padrão: 1.5811388300841898\n"
     ]
    }
   ],
   "source": [
    "import statistics as st\n",
    "\n",
    "a = [1,2,3,4,5]\n",
    "\n",
    "media = st.mean(a)\n",
    "var = st.variance(a)\n",
    "std = st.stdev(a)\n",
    "\n",
    "print(f'Media: {media}, Variancia: {var}, Desvio padrão: {std}')"
   ]
  },
  {
   "attachments": {},
   "cell_type": "markdown",
   "metadata": {},
   "source": [
    "### O módulo `math`"
   ]
  },
  {
   "cell_type": "code",
   "execution_count": 1,
   "metadata": {},
   "outputs": [
    {
     "name": "stdout",
     "output_type": "stream",
     "text": [
      "Potencia: 8.0\n",
      "Constante de Euler: 2.718281828459045\n",
      "O fatorial de 10 é: 3628800\n"
     ]
    }
   ],
   "source": [
    "import math\n",
    "\n",
    "pot = math.pow(2,3)\n",
    "print(f'Potencia: {pot}')\n",
    "\n",
    "e = math.e\n",
    "print(f'Constante de Euler: {e}')\n",
    "\n",
    "f = math.factorial(10)\n",
    "print(f'O fatorial de 10 é: {f}')"
   ]
  },
  {
   "attachments": {},
   "cell_type": "markdown",
   "metadata": {},
   "source": [
    "## Módulos e bibliotecas externas ao python"
   ]
  },
  {
   "attachments": {},
   "cell_type": "markdown",
   "metadata": {},
   "source": [
    "Módulos e bibliotecas externos ao python precisam ser previamente instalado antes de serem importados no código"
   ]
  },
  {
   "attachments": {},
   "cell_type": "markdown",
   "metadata": {},
   "source": [
    "<img src=\"Figures/pacotes_externos.png\" alt= “” width=700 height=400>"
   ]
  },
  {
   "attachments": {},
   "cell_type": "markdown",
   "metadata": {},
   "source": [
    "### Exemplo: https://pypi.org/project/electricpy/\n",
    "\n",
    "O módulo `electricpy` apresenta diversas Funções de Engenharia Elétrica em Python."
   ]
  },
  {
   "cell_type": "code",
   "execution_count": 2,
   "metadata": {},
   "outputs": [
    {
     "ename": "ModuleNotFoundError",
     "evalue": "No module named 'electricpy'",
     "output_type": "error",
     "traceback": [
      "\u001b[0;31m---------------------------------------------------------------------------\u001b[0m",
      "\u001b[0;31mModuleNotFoundError\u001b[0m                       Traceback (most recent call last)",
      "Cell \u001b[0;32mIn[2], line 1\u001b[0m\n\u001b[0;32m----> 1\u001b[0m \u001b[39mimport\u001b[39;00m \u001b[39melectricpy\u001b[39;00m\n",
      "\u001b[0;31mModuleNotFoundError\u001b[0m: No module named 'electricpy'"
     ]
    }
   ],
   "source": [
    "import electricpy"
   ]
  },
  {
   "attachments": {},
   "cell_type": "markdown",
   "metadata": {},
   "source": [
    "Como instalar um módulo/biblioteca externo ao Python?\n",
    "\n",
    "`pip instal <nome_do_modulo>`"
   ]
  },
  {
   "cell_type": "code",
   "execution_count": null,
   "metadata": {},
   "outputs": [],
   "source": [
    "from electricpy import conversions as cv\n",
    "import math \n",
    "\n",
    "#convertendo radianos para Hertz\n",
    "cv.hertz(math.pi)\n"
   ]
  },
  {
   "attachments": {},
   "cell_type": "markdown",
   "metadata": {},
   "source": [
    "### Observação importante: \n",
    "\n",
    "No google colab, por exemplo, diversas bibliotecas externas ao python, frequentemente utilizadas já estão instaladas por padrão. No seu ambiente offline é necessário instalar!\n",
    "\n"
   ]
  },
  {
   "attachments": {},
   "cell_type": "markdown",
   "metadata": {},
   "source": [
    "### O `matplotlib`"
   ]
  },
  {
   "cell_type": "code",
   "execution_count": 4,
   "metadata": {},
   "outputs": [
    {
     "data": {
      "text/plain": [
       "[<matplotlib.lines.Line2D at 0x10a7ab970>]"
      ]
     },
     "execution_count": 4,
     "metadata": {},
     "output_type": "execute_result"
    },
    {
     "data": {
      "image/png": "[encoded data removed]",
      "text/plain": [
       "<Figure size 640x480 with 1 Axes>"
      ]
     },
     "metadata": {},
     "output_type": "display_data"
    }
   ],
   "source": [
    "import random as rd\n",
    "x = range(1000)\n",
    "y = [x_i**2 for x_i in x]\n",
    "\n",
    "import matplotlib.pyplot as plt\n",
    "plt.plot(x, y)"
   ]
  },
  {
   "attachments": {},
   "cell_type": "markdown",
   "metadata": {},
   "source": [
    "## Resumindo:\n",
    "\n",
    "Explorar módulos e bibliotecas nativas ou externas ao python FOJE do escopo desta disciplina. \n",
    "Contudo, conhecer alguas das bibliotecas externas ao python mais amplamente utillizadas é IMPORTANTE. \n",
    "Dessa forma, recomendo FORTEMENTE que os alunos assistam as vídeo-aulas (extra) em que apresento a vocês três bibliotecas MUITO utilizadas no mundo da programação em python:\n",
    "\n",
    "* Numpy\n",
    "* Pandas\n",
    "* Matplotlib"
   ]
  }
 ],
 "metadata": {
  "kernelspec": {
   "display_name": "aulas",
   "language": "python",
   "name": "python3"
  },
  "language_info": {
   "codemirror_mode": {
    "name": "ipython",
    "version": 3
   },
   "file_extension": ".py",
   "mimetype": "text/x-python",
   "name": "python",
   "nbconvert_exporter": "python",
   "pygments_lexer": "ipython3",
   "version": "3.9.16"
  },
  "orig_nbformat": 4
 },
 "nbformat": 4,
 "nbformat_minor": 2
}
