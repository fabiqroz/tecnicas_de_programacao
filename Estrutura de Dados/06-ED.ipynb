{
 "cells": [
  {
   "attachments": {},
   "cell_type": "markdown",
   "metadata": {},
   "source": [
    "# Recursividade\n",
    "\n",
    "*Você quis dizer: recursividade*\n",
    "-----------\n",
    "\n",
    "*Google*"
   ]
  },
  {
   "attachments": {},
   "cell_type": "markdown",
   "metadata": {},
   "source": [
    "Já aprendemos que, desenvolver um algoritmo, muitas vezes precisamos:\n",
    "\n",
    "* tomar decisões condicionais utilizando `if`, `elif` e `else`, ou\n",
    "* executar uma tarefa repetidamente, utilizando estuturas de repetição tais como `while` e `for`\n",
    "\n",
    "Em geral, todas essas operações são rapidamente assimiladas pois fazem parte do cotidiano de qualquer pessoa, dado que muitas vezes prekcisamos tomar decisões ou executar tarefas repetidamente. \n",
    "\n",
    "Porém, para de senvolvermos algoritmos, é necessário o conceito de recursão. Nesta aula iremos trabalhar este conceito e explicar como recusividade é importante em algoritmos que envolvem estruturas de dados e ordenação."
   ]
  },
  {
   "attachments": {},
   "cell_type": "markdown",
   "metadata": {},
   "source": [
    "Vaos partir do ponto chave da recursão: **Qualquer função que chama a si mesma é recursiva.**\n",
    "\n",
    "Recursão geralmente não é um conceito fácil de assimilar, poré ela é uma ferramenta muito útil pra se resolver problemas de forma eficiente e elegante. Para facilitar o aprendizado em ercursividade, vamos apresentar aqui soluções recursivas em pseudocódigo (com maior nível de abstração) e em seguida em python."
   ]
  },
  {
   "attachments": {},
   "cell_type": "markdown",
   "metadata": {},
   "source": [
    "<img src=\"../Figures/recursividade_1.png\" alt= “” width=650 height=500>"
   ]
  },
  {
   "attachments": {},
   "cell_type": "markdown",
   "metadata": {},
   "source": [
    "## Solução 1:\n",
    "1. Monte uma pilha com as caixa que serão analizadas\n",
    "2. Pegue uma caixa e olhe dentro dela\n",
    "3. Se você encontrar outra caixa dentro dela, adcione-a a uma nova pilha para ser olhada mais tarde.\n",
    "4. Se você encontrar uma chave, terminou!\n",
    "5. Repita"
   ]
  },
  {
   "attachments": {},
   "cell_type": "markdown",
   "metadata": {},
   "source": [
    "<img src=\"../Figures/recur_1.png\" alt= “” width=350 height=150>"
   ]
  },
  {
   "attachments": {},
   "cell_type": "markdown",
   "metadata": {},
   "source": [
    "## Solução 2:\n",
    "1. Olhe o que tem dentro da caixa.\n",
    "2. Se encontrar uma caixa, volte ao passo 1.\n",
    "3. Se concontrar uma chave, terminou."
   ]
  },
  {
   "attachments": {},
   "cell_type": "markdown",
   "metadata": {},
   "source": [
    "<img src=\"../Figures/recur_2.png\" alt= “” width=350 height=150>"
   ]
  },
  {
   "attachments": {},
   "cell_type": "markdown",
   "metadata": {},
   "source": [
    "## Algumas observações úteis:\n",
    "\n",
    "* A recursão tende a ser uma solução mais objetiva que a iteração;\n",
    "* Não há nenhum benefício (em termos de custo computacional) ao se utilizar a recursão em uma solução. Na verdade, em algumas situações, os loops tendem a ser mais baratos.\n",
    "* Segundo Leigh Cadwell (stacko verflow): \"*Os loops podem melhorar  odesempenho do programa. A recursão melhora o desenpenho do programador*\"."
   ]
  },
  {
   "attachments": {},
   "cell_type": "markdown",
   "metadata": {},
   "source": [
    "## O cálculo do fatorial!"
   ]
  },
  {
   "cell_type": "code",
   "execution_count": 5,
   "metadata": {},
   "outputs": [
    {
     "name": "stdout",
     "output_type": "stream",
     "text": [
      "1\n"
     ]
    }
   ],
   "source": [
    "def fatorial(n):\n",
    "    fat = 1\n",
    "    for i in range(1,n+1):\n",
    "       fat *= i\n",
    "    return fat\n",
    "\n",
    "print(fatorial(1))"
   ]
  },
  {
   "attachments": {},
   "cell_type": "markdown",
   "metadata": {},
   "source": [
    "### Uma solução recursiva:"
   ]
  },
  {
   "attachments": {},
   "cell_type": "markdown",
   "metadata": {},
   "source": [
    "<img src=\"../Figures/fatorial_recur.png\" alt= “” width=600 height=400>"
   ]
  },
  {
   "cell_type": "code",
   "execution_count": 6,
   "metadata": {},
   "outputs": [
    {
     "name": "stdout",
     "output_type": "stream",
     "text": [
      "1\n"
     ]
    }
   ],
   "source": [
    "def recur_fatorial(n):\n",
    "    \n",
    "       \n",
    "    \n",
    "    \n",
    "    return n*recur_fatorial(n-1)\n",
    "    \n",
    "\n",
    "    \n",
    "\n",
    "print(recur_fatorial(0))"
   ]
  },
  {
   "attachments": {},
   "cell_type": "markdown",
   "metadata": {},
   "source": [
    "## Visualizando o calculo recursivo do fatorial:\n",
    "\n",
    "http://algoanim.ide.sk/index.php?page=showanim&id=60"
   ]
  },
  {
   "attachments": {},
   "cell_type": "markdown",
   "metadata": {},
   "source": [
    "## O cálculo de uma potência"
   ]
  },
  {
   "attachments": {},
   "cell_type": "markdown",
   "metadata": {},
   "source": [
    "### Uma solução recursiva:"
   ]
  },
  {
   "attachments": {},
   "cell_type": "markdown",
   "metadata": {},
   "source": [
    "<img src=\"../Figures/potencia_recur.png\" alt= “” width=600 height=400>"
   ]
  },
  {
   "cell_type": "code",
   "execution_count": null,
   "metadata": {},
   "outputs": [
    {
     "name": "stdout",
     "output_type": "stream",
     "text": [
      "8\n"
     ]
    }
   ],
   "source": [
    "def recur_pot(x,n):\n",
    "    \n",
    "    if n == 0:\n",
    "        return 1\n",
    "    \n",
    "    return x*recur_pot(x,n-1)\n",
    "\n",
    "print(recur_pot(2,3))"
   ]
  },
  {
   "attachments": {},
   "cell_type": "markdown",
   "metadata": {},
   "source": [
    "## De volta ao problema da busca simples sobre dados ordenados:"
   ]
  },
  {
   "cell_type": "code",
   "execution_count": null,
   "metadata": {},
   "outputs": [],
   "source": [
    "def busca_simples_em_ordem(a,n,k):\n",
    "    i = 0\n",
    "    while i < n and k >= a[i]:\n",
    "        if a[i] == k:\n",
    "            return i\n",
    "        i += 1\n",
    "    \n",
    "    return None"
   ]
  },
  {
   "attachments": {},
   "cell_type": "markdown",
   "metadata": {},
   "source": [
    "### Uma solução recursiva:"
   ]
  },
  {
   "cell_type": "code",
   "execution_count": 9,
   "metadata": {},
   "outputs": [
    {
     "name": "stdout",
     "output_type": "stream",
     "text": [
      "2\n"
     ]
    }
   ],
   "source": [
    "def recur_busca_simples_em_ordem(a,n,k):\n",
    "    \n",
    "    if n == 0:\n",
    "        return None\n",
    "    \n",
    "    if a[n-1] == k:\n",
    "        return n\n",
    "    \n",
    "    return recur_busca_simples_em_ordem(a, n-1,k)\n",
    "\n",
    "print(recur_busca_simples_em_ordem([1,2,35,5,3,40,5 ,], 3, 2))"
   ]
  }
 ],
 "metadata": {
  "kernelspec": {
   "display_name": "aulas",
   "language": "python",
   "name": "python3"
  },
  "language_info": {
   "codemirror_mode": {
    "name": "ipython",
    "version": 3
   },
   "file_extension": ".py",
   "mimetype": "text/x-python",
   "name": "python",
   "nbconvert_exporter": "python",
   "pygments_lexer": "ipython3",
   "version": "3.9.16"
  },
  "orig_nbformat": 4
 },
 "nbformat": 4,
 "nbformat_minor": 2
}
