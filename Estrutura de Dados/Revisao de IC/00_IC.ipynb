{
  "cells": [
    {
      "attachments": {},
      "cell_type": "markdown",
      "metadata": {
        "id": "hmg3bpzjttmz"
      },
      "source": [
        "Entrada de dados"
      ]
    },
    {
      "cell_type": "code",
      "execution_count": null,
      "metadata": {
        "id": "Gq-oIUmgzMFF"
      },
      "outputs": [],
      "source": [
        "a = int(input())\n",
        "b, c = map(int, input().split())"
      ]
    },
    {
      "attachments": {},
      "cell_type": "markdown",
      "metadata": {
        "id": "ky-CjPrEtxpk"
      },
      "source": [
        "saida de dados"
      ]
    },
    {
      "cell_type": "code",
      "execution_count": null,
      "metadata": {
        "id": "Farg2EuwKR7W"
      },
      "outputs": [],
      "source": [
        "print(a,b)"
      ]
    },
    {
      "attachments": {},
      "cell_type": "markdown",
      "metadata": {
        "id": "TWywV-b60Mcr"
      },
      "source": [
        "Operadores aritméticos"
      ]
    },
    {
      "cell_type": "code",
      "execution_count": null,
      "metadata": {
        "id": "psb1UKFxzpbt"
      },
      "outputs": [],
      "source": [
        "print(a+b)\n",
        "print(a-b)\n",
        "print(a*b)\n",
        "print(a/b)\n",
        "print(a//b)\n",
        "print(a%b)"
      ]
    },
    {
      "attachments": {},
      "cell_type": "markdown",
      "metadata": {
        "id": "zARGE-d30POS"
      },
      "source": [
        "Operadores relacionais"
      ]
    },
    {
      "cell_type": "code",
      "execution_count": null,
      "metadata": {
        "id": "uhh_FbnX0RUh"
      },
      "outputs": [],
      "source": [
        "print(a==b)\n",
        "print(a!=b)\n",
        "print(a<b)\n",
        "print(a>=b)"
      ]
    },
    {
      "attachments": {},
      "cell_type": "markdown",
      "metadata": {
        "id": "CqGCdq16qyL7"
      },
      "source": [
        "Operadores Lógicos"
      ]
    },
    {
      "cell_type": "code",
      "execution_count": null,
      "metadata": {
        "id": "GNuczm28piiw"
      },
      "outputs": [],
      "source": [
        "print(a==b and b==c)\n",
        "print(a==b or b==c)\n",
        "print(not a==b)"
      ]
    },
    {
      "attachments": {},
      "cell_type": "markdown",
      "metadata": {
        "id": "YrGdXygi0tMC"
      },
      "source": [
        "Strings"
      ]
    },
    {
      "cell_type": "code",
      "execution_count": null,
      "metadata": {
        "id": "uXILpmEK1f-k"
      },
      "outputs": [],
      "source": [
        "s1 = 'oi'\n",
        "s2 = \"mundo\"\n",
        "\n",
        "print(s1 + ' ' + s2)\n",
        "print(s1*10)"
      ]
    },
    {
      "cell_type": "code",
      "execution_count": null,
      "metadata": {
        "id": "erBZASfC0vNw"
      },
      "outputs": [],
      "source": [
        "nome = 'fabi'\n",
        "senha = 3\n",
        "\n",
        "print('Bem vinda, {}, sua senha é a de numero {:.3f}'.format(nome.upper(), senha))"
      ]
    },
    {
      "cell_type": "code",
      "execution_count": null,
      "metadata": {
        "id": "8uZ8MWBfrTmv"
      },
      "outputs": [],
      "source": [
        "print(f'Bem vinda, {nome.upper()}, sua senha é a de numero {senha:.3f}')"
      ]
    },
    {
      "attachments": {},
      "cell_type": "markdown",
      "metadata": {
        "id": "x7_FET9T0evT"
      },
      "source": [
        "Condições"
      ]
    },
    {
      "cell_type": "code",
      "execution_count": null,
      "metadata": {
        "id": "vVdkIzyg0qU-"
      },
      "outputs": [],
      "source": [
        "c = -1"
      ]
    },
    {
      "cell_type": "code",
      "execution_count": null,
      "metadata": {
        "id": "pZVMIzNx0h9G"
      },
      "outputs": [],
      "source": [
        "if a == b or a>c:\n",
        "  print(0)\n",
        "elif a!= b and a>=c:\n",
        "  print(1)\n",
        "else:\n",
        "  print(2)"
      ]
    },
    {
      "attachments": {},
      "cell_type": "markdown",
      "metadata": {
        "id": "kJ5-ktNG2Mqu"
      },
      "source": [
        "Repetição Condicionada"
      ]
    },
    {
      "cell_type": "code",
      "execution_count": null,
      "metadata": {
        "id": "Ek-Roa4w2Osp"
      },
      "outputs": [],
      "source": [
        "num = float(input('Digite um numero real positivo: '))\n",
        "\n",
        "while num >= 0:\n",
        "  print('Parabéns, este é um numero positivo!!!')\n",
        "  num = float(input('Digite outro numero  positivo. '))\n",
        "else:\n",
        "  print('O numero digitado não é um numero  positivo.')\n",
        "\n"
      ]
    },
    {
      "attachments": {},
      "cell_type": "markdown",
      "metadata": {
        "id": "OxCMbfdK4C_y"
      },
      "source": [
        "Listas"
      ]
    },
    {
      "cell_type": "code",
      "execution_count": null,
      "metadata": {
        "id": "4DnD1gYM4Eh_"
      },
      "outputs": [],
      "source": [
        "lista = [9,-6,7,2,0,1,8,-3,5,4]\n",
        "print(lista)"
      ]
    },
    {
      "cell_type": "code",
      "execution_count": null,
      "metadata": {
        "id": "2pSWeb1fry35"
      },
      "outputs": [],
      "source": [
        "for ele in lista:\n",
        "  print(ele)"
      ]
    },
    {
      "cell_type": "code",
      "execution_count": null,
      "metadata": {
        "id": "oQuf6vvJ4bJo"
      },
      "outputs": [],
      "source": [
        "for i in range(len(lista)):\n",
        "  print(lista[i])"
      ]
    },
    {
      "attachments": {},
      "cell_type": "markdown",
      "metadata": {
        "id": "9fsPlujFtl7u"
      },
      "source": [
        "Listas de listas"
      ]
    },
    {
      "cell_type": "code",
      "execution_count": 17,
      "metadata": {
        "colab": {
          "base_uri": "https://localhost:8080/"
        },
        "id": "lYThGBzY4q0f",
        "outputId": "877a2a88-9d08-4a83-cd24-5d692db1b987"
      },
      "outputs": [
        {
          "name": "stdout",
          "output_type": "stream",
          "text": [
            "[[1, 3], ['marta'], []]\n"
          ]
        }
      ],
      "source": [
        "l_l = [[1,3], ['marta'], []]\n",
        "print(l_l)"
      ]
    },
    {
      "cell_type": "code",
      "execution_count": null,
      "metadata": {
        "id": "IrfT3ROluQCi"
      },
      "outputs": [],
      "source": [
        "m = []\n",
        "for i in range(2):\n",
        "  linha = []\n",
        "  for j in range(2):\n",
        "    linha.append(int(input()))\n",
        "\n",
        "  m.append(linha)\n",
        "\n",
        "print(m)"
      ]
    },
    {
      "attachments": {},
      "cell_type": "markdown",
      "metadata": {
        "id": "L9pD7U5DOzbu"
      },
      "source": [
        "Funções"
      ]
    },
    {
      "cell_type": "code",
      "execution_count": null,
      "metadata": {
        "id": "jucePQA0PQj-"
      },
      "outputs": [],
      "source": [
        "def diga_oi():\n",
        "  print('oi')"
      ]
    },
    {
      "cell_type": "code",
      "execution_count": null,
      "metadata": {
        "id": "fb_qw6GePUe7"
      },
      "outputs": [],
      "source": [
        "diga_oi()"
      ]
    },
    {
      "cell_type": "code",
      "execution_count": null,
      "metadata": {
        "id": "B0XME13T5K9N"
      },
      "outputs": [],
      "source": [
        "def check_par(num):\n",
        "  return num % 2 == 0"
      ]
    },
    {
      "cell_type": "code",
      "execution_count": null,
      "metadata": {
        "id": "DHjptaLw7nOd"
      },
      "outputs": [],
      "source": [
        "cont= 0\n",
        "for i in lista:\n",
        "  if check_par(i):\n",
        "    cont += 1\n",
        "\n",
        "print('Quantidade de numeros pares:', cont)"
      ]
    },
    {
      "cell_type": "code",
      "execution_count": null,
      "metadata": {
        "id": "HlE-WHxn7uIx"
      },
      "outputs": [],
      "source": [
        "def check_pares(lista):\n",
        "  pares = []\n",
        "  for i in lista:\n",
        "    if check_par(i):\n",
        "      pares.append(i)\n",
        "\n",
        "  return pares"
      ]
    },
    {
      "cell_type": "code",
      "execution_count": null,
      "metadata": {
        "id": "Greh6nlF8Gp9"
      },
      "outputs": [],
      "source": [
        "l1 = [3, 1]"
      ]
    },
    {
      "cell_type": "code",
      "execution_count": null,
      "metadata": {
        "id": "StvWtirA9AQl"
      },
      "outputs": [],
      "source": [
        "pares = check_pares(l1)\n",
        "print(pares)"
      ]
    },
    {
      "cell_type": "code",
      "execution_count": null,
      "metadata": {
        "id": "oAq8kNB_81Yb"
      },
      "outputs": [],
      "source": [
        "# Verifica se a lista nao esta vazia\n",
        "if pares:\n",
        "  print('A lista contem {} numeros pares. \\n São eles: {}'.format(len(pares), pares))\n",
        "else:\n",
        "  print('A lista não contém numeros pares')"
      ]
    },
    {
      "cell_type": "code",
      "execution_count": null,
      "metadata": {
        "id": "Y0XB_KOz9E_o"
      },
      "outputs": [],
      "source": [
        "l2 = [3, 1, 1, 9]"
      ]
    }
  ],
  "metadata": {
    "colab": {
      "provenance": []
    },
    "kernelspec": {
      "display_name": "Python 3",
      "name": "python3"
    },
    "language_info": {
      "name": "python"
    }
  },
  "nbformat": 4,
  "nbformat_minor": 0
}
